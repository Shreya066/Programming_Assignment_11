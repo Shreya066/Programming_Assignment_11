{
 "cells": [
  {
   "cell_type": "markdown",
   "id": "1e27d49d",
   "metadata": {},
   "source": [
    "**1. Write a Python program to find words which are greater than given length k?**"
   ]
  },
  {
   "cell_type": "code",
   "execution_count": 1,
   "id": "a247a7f0",
   "metadata": {},
   "outputs": [
    {
     "name": "stdout",
     "output_type": "stream",
     "text": [
      "Enter a number :5\n",
      "['Python', 'Programming', 'Assignment']\n"
     ]
    }
   ],
   "source": [
    "sentence = \"This is a Python Programming Assignment\"\n",
    "length = int(input(\"Enter a number :\"))\n",
    "print([i for i in sentence.split() if len(i) > length])"
   ]
  },
  {
   "cell_type": "markdown",
   "id": "69a7b1cc",
   "metadata": {},
   "source": [
    "**2. Write a Python program for removing i-th character from a string?**"
   ]
  },
  {
   "cell_type": "code",
   "execution_count": 2,
   "id": "9eb77907",
   "metadata": {},
   "outputs": [
    {
     "name": "stdout",
     "output_type": "stream",
     "text": [
      "The original string is :ineuron\n",
      "The string after removal of i-th character : inuron\n"
     ]
    }
   ],
   "source": [
    "string = \"ineuron\"\n",
    "print(\"The original string is :\" + string)\n",
    "\n",
    "new_string = \" \"\n",
    "\n",
    "for i in range(len(string)):\n",
    "    if i != 2:\n",
    "        new_string = new_string + string[i]\n",
    "print(\"The string after removal of i-th character :\" + new_string)"
   ]
  },
  {
   "cell_type": "markdown",
   "id": "98e6dfbb",
   "metadata": {},
   "source": [
    "**3. Write a Python program to split and join a string?**"
   ]
  },
  {
   "cell_type": "code",
   "execution_count": 3,
   "id": "35be64c0",
   "metadata": {},
   "outputs": [
    {
     "name": "stdout",
     "output_type": "stream",
     "text": [
      "Split string : ['This', 'is', 'a', 'Python', 'Programming', 'Assignment']\n",
      "Join string : This is a Python Programming Assignment\n"
     ]
    }
   ],
   "source": [
    "s = \"This is a Python Programming Assignment\"\n",
    "print(\"Split string :\", s.split(\" \"))\n",
    "print(\"Join string :\", \" \".join(s.split()))"
   ]
  },
  {
   "cell_type": "markdown",
   "id": "bd1c6228",
   "metadata": {},
   "source": [
    "**4. Write a Python to check if a given string is binary string or not?**"
   ]
  },
  {
   "cell_type": "code",
   "execution_count": 4,
   "id": "4bd86b19",
   "metadata": {},
   "outputs": [
    {
     "name": "stdout",
     "output_type": "stream",
     "text": [
      "Enter the string: 1010101100\n",
      "1010101100 is a binary string\n",
      "Enter the string: 12010101\n",
      "12010101 is not a binary string\n"
     ]
    }
   ],
   "source": [
    "def checkBinary():\n",
    "    in_string = input('Enter the string: ')\n",
    "    stun = 0\n",
    "    for ele in in_string:\n",
    "        if ele in ['0','1']:\n",
    "            stun = 1\n",
    "            continue\n",
    "        else:\n",
    "            stun = 0\n",
    "            break\n",
    "    statement = 'is a binary string' if stun == 1 else 'is not a binary string' \n",
    "    print(f'{in_string} {statement}')\n",
    "\n",
    "checkBinary()\n",
    "checkBinary()"
   ]
  },
  {
   "cell_type": "markdown",
   "id": "579aec24",
   "metadata": {},
   "source": [
    "**5. Write a Python program to find uncommon words from two Strings?**"
   ]
  },
  {
   "cell_type": "code",
   "execution_count": 5,
   "id": "5c77fd6a",
   "metadata": {},
   "outputs": [
    {
     "name": "stdout",
     "output_type": "stream",
     "text": [
      "Enter the String 1: ineuron assignment\n",
      "Enter the String 2: python assignment\n",
      "{'python', 'ineuron'}\n"
     ]
    }
   ],
   "source": [
    "def uncommon_Words():\n",
    "    in_string_1 = set(input(\"Enter the String 1: \").split(' '))\n",
    "    in_string_2 = set(input(\"Enter the String 2: \").split(' '))\n",
    "    out_string = (in_string_1.union(in_string_2)).difference(in_string_1.intersection(in_string_2))\n",
    "    print(out_string)\n",
    "\n",
    "uncommon_Words()"
   ]
  },
  {
   "cell_type": "markdown",
   "id": "64351da3",
   "metadata": {},
   "source": [
    "**6. Write a Python to find all duplicate characters in string?**"
   ]
  },
  {
   "cell_type": "code",
   "execution_count": 6,
   "id": "19e52a2f",
   "metadata": {},
   "outputs": [
    {
     "name": "stdout",
     "output_type": "stream",
     "text": [
      "Enter the string: This is a python programming assignment\n",
      "Duplicate characters are: ['n', 'a', 'i', 'h', 's', ' ', 'p', 't', 'r', 'g', 'o', 'm']\n"
     ]
    }
   ],
   "source": [
    "def duplicate_chars():\n",
    "    in_string = input('Enter the string: ')\n",
    "    non_duplicate_list = []\n",
    "    duplicate_list = []\n",
    "    for ele in in_string:\n",
    "        if ele not in non_duplicate_list:\n",
    "            non_duplicate_list.append(ele)\n",
    "        else:\n",
    "            duplicate_list.append(ele)\n",
    "    print(f'Duplicate characters are: {list(set(duplicate_list))}')\n",
    "        \n",
    "duplicate_chars()"
   ]
  },
  {
   "cell_type": "markdown",
   "id": "33dff22b",
   "metadata": {},
   "source": [
    "**7. Write a Python Program to check if a string contains any special character?**"
   ]
  },
  {
   "cell_type": "code",
   "execution_count": 7,
   "id": "683fd4c9",
   "metadata": {},
   "outputs": [
    {
     "name": "stdout",
     "output_type": "stream",
     "text": [
      "Enter the string: shreya@#sharma$%\n",
      "There are 4 Speical Characters in shreya@#sharma$% which are ['@', '#', '$', '%']\n"
     ]
    }
   ],
   "source": [
    "def check_special_char():\n",
    "    spl_chars = '[@_!#$%^&*()<>?/\\|}{~:]'\n",
    "    in_num = input('Enter the string: ')\n",
    "    count = 0\n",
    "    char_list = []\n",
    "    for ele in in_num:\n",
    "        if ele in spl_chars:\n",
    "            char_list.append(ele)\n",
    "            count = count+1\n",
    "    print(f'There are {count} Speical Characters in {in_num} which are {char_list}')\n",
    "            \n",
    "        \n",
    "check_special_char()"
   ]
  }
 ],
 "metadata": {
  "kernelspec": {
   "display_name": "Python 3 (ipykernel)",
   "language": "python",
   "name": "python3"
  },
  "language_info": {
   "codemirror_mode": {
    "name": "ipython",
    "version": 3
   },
   "file_extension": ".py",
   "mimetype": "text/x-python",
   "name": "python",
   "nbconvert_exporter": "python",
   "pygments_lexer": "ipython3",
   "version": "3.9.7"
  }
 },
 "nbformat": 4,
 "nbformat_minor": 5
}
